{
 "cells": [
  {
   "cell_type": "code",
   "execution_count": 22,
   "id": "389be780",
   "metadata": {},
   "outputs": [],
   "source": [
    "import numpy as np\n",
    "import pandas as pd\n",
    "import matplotlib.pyplot as plt\n",
    "import seaborn as sns"
   ]
  },
  {
   "cell_type": "code",
   "execution_count": 24,
   "id": "c99f080d",
   "metadata": {},
   "outputs": [],
   "source": [
    "from sklearn.tree import DecisionTreeClassifier\n",
    "from sklearn.model_selection import train_test_split\n",
    "from sklearn.metrics import accuracy_score, classification_report, confusion_matrix\n",
    "from sklearn.preprocessing import LabelEncoder"
   ]
  },
  {
   "cell_type": "code",
   "execution_count": 25,
   "id": "918e3038",
   "metadata": {},
   "outputs": [
    {
     "data": {
      "text/html": [
       "<div>\n",
       "<style scoped>\n",
       "    .dataframe tbody tr th:only-of-type {\n",
       "        vertical-align: middle;\n",
       "    }\n",
       "\n",
       "    .dataframe tbody tr th {\n",
       "        vertical-align: top;\n",
       "    }\n",
       "\n",
       "    .dataframe thead th {\n",
       "        text-align: right;\n",
       "    }\n",
       "</style>\n",
       "<table border=\"1\" class=\"dataframe\">\n",
       "  <thead>\n",
       "    <tr style=\"text-align: right;\">\n",
       "      <th></th>\n",
       "      <th>url</th>\n",
       "      <th>address</th>\n",
       "      <th>name</th>\n",
       "      <th>online_order</th>\n",
       "      <th>book_table</th>\n",
       "      <th>rate</th>\n",
       "      <th>votes</th>\n",
       "      <th>phone</th>\n",
       "      <th>location</th>\n",
       "      <th>rest_type</th>\n",
       "      <th>dish_liked</th>\n",
       "      <th>cuisines</th>\n",
       "      <th>approx_cost(for two people)</th>\n",
       "      <th>reviews_list</th>\n",
       "      <th>menu_item</th>\n",
       "      <th>listed_in(type)</th>\n",
       "      <th>listed_in(city)</th>\n",
       "    </tr>\n",
       "  </thead>\n",
       "  <tbody>\n",
       "    <tr>\n",
       "      <th>0</th>\n",
       "      <td>https://www.zomato.com/bangalore/jalsa-banasha...</td>\n",
       "      <td>942, 21st Main Road, 2nd Stage, Banashankari, ...</td>\n",
       "      <td>Jalsa</td>\n",
       "      <td>Yes</td>\n",
       "      <td>Yes</td>\n",
       "      <td>4.1/5</td>\n",
       "      <td>775</td>\n",
       "      <td>080 42297555\\r\\n+91 9743772233</td>\n",
       "      <td>Banashankari</td>\n",
       "      <td>Casual Dining</td>\n",
       "      <td>Pasta, Lunch Buffet, Masala Papad, Paneer Laja...</td>\n",
       "      <td>North Indian, Mughlai, Chinese</td>\n",
       "      <td>800</td>\n",
       "      <td>[('Rated 4.0', 'RATED\\n  A beautiful place to ...</td>\n",
       "      <td>[]</td>\n",
       "      <td>Buffet</td>\n",
       "      <td>Banashankari</td>\n",
       "    </tr>\n",
       "    <tr>\n",
       "      <th>1</th>\n",
       "      <td>https://www.zomato.com/bangalore/spice-elephan...</td>\n",
       "      <td>2nd Floor, 80 Feet Road, Near Big Bazaar, 6th ...</td>\n",
       "      <td>Spice Elephant</td>\n",
       "      <td>Yes</td>\n",
       "      <td>No</td>\n",
       "      <td>4.1/5</td>\n",
       "      <td>787</td>\n",
       "      <td>080 41714161</td>\n",
       "      <td>Banashankari</td>\n",
       "      <td>Casual Dining</td>\n",
       "      <td>Momos, Lunch Buffet, Chocolate Nirvana, Thai G...</td>\n",
       "      <td>Chinese, North Indian, Thai</td>\n",
       "      <td>800</td>\n",
       "      <td>[('Rated 4.0', 'RATED\\n  Had been here for din...</td>\n",
       "      <td>[]</td>\n",
       "      <td>Buffet</td>\n",
       "      <td>Banashankari</td>\n",
       "    </tr>\n",
       "    <tr>\n",
       "      <th>2</th>\n",
       "      <td>https://www.zomato.com/SanchurroBangalore?cont...</td>\n",
       "      <td>1112, Next to KIMS Medical College, 17th Cross...</td>\n",
       "      <td>San Churro Cafe</td>\n",
       "      <td>Yes</td>\n",
       "      <td>No</td>\n",
       "      <td>3.8/5</td>\n",
       "      <td>918</td>\n",
       "      <td>+91 9663487993</td>\n",
       "      <td>Banashankari</td>\n",
       "      <td>Cafe, Casual Dining</td>\n",
       "      <td>Churros, Cannelloni, Minestrone Soup, Hot Choc...</td>\n",
       "      <td>Cafe, Mexican, Italian</td>\n",
       "      <td>800</td>\n",
       "      <td>[('Rated 3.0', \"RATED\\n  Ambience is not that ...</td>\n",
       "      <td>[]</td>\n",
       "      <td>Buffet</td>\n",
       "      <td>Banashankari</td>\n",
       "    </tr>\n",
       "    <tr>\n",
       "      <th>3</th>\n",
       "      <td>https://www.zomato.com/bangalore/addhuri-udupi...</td>\n",
       "      <td>1st Floor, Annakuteera, 3rd Stage, Banashankar...</td>\n",
       "      <td>Addhuri Udupi Bhojana</td>\n",
       "      <td>No</td>\n",
       "      <td>No</td>\n",
       "      <td>3.7/5</td>\n",
       "      <td>88</td>\n",
       "      <td>+91 9620009302</td>\n",
       "      <td>Banashankari</td>\n",
       "      <td>Quick Bites</td>\n",
       "      <td>Masala Dosa</td>\n",
       "      <td>South Indian, North Indian</td>\n",
       "      <td>300</td>\n",
       "      <td>[('Rated 4.0', \"RATED\\n  Great food and proper...</td>\n",
       "      <td>[]</td>\n",
       "      <td>Buffet</td>\n",
       "      <td>Banashankari</td>\n",
       "    </tr>\n",
       "    <tr>\n",
       "      <th>4</th>\n",
       "      <td>https://www.zomato.com/bangalore/grand-village...</td>\n",
       "      <td>10, 3rd Floor, Lakshmi Associates, Gandhi Baza...</td>\n",
       "      <td>Grand Village</td>\n",
       "      <td>No</td>\n",
       "      <td>No</td>\n",
       "      <td>3.8/5</td>\n",
       "      <td>166</td>\n",
       "      <td>+91 8026612447\\r\\n+91 9901210005</td>\n",
       "      <td>Basavanagudi</td>\n",
       "      <td>Casual Dining</td>\n",
       "      <td>Panipuri, Gol Gappe</td>\n",
       "      <td>North Indian, Rajasthani</td>\n",
       "      <td>600</td>\n",
       "      <td>[('Rated 4.0', 'RATED\\n  Very good restaurant ...</td>\n",
       "      <td>[]</td>\n",
       "      <td>Buffet</td>\n",
       "      <td>Banashankari</td>\n",
       "    </tr>\n",
       "  </tbody>\n",
       "</table>\n",
       "</div>"
      ],
      "text/plain": [
       "                                                 url  \\\n",
       "0  https://www.zomato.com/bangalore/jalsa-banasha...   \n",
       "1  https://www.zomato.com/bangalore/spice-elephan...   \n",
       "2  https://www.zomato.com/SanchurroBangalore?cont...   \n",
       "3  https://www.zomato.com/bangalore/addhuri-udupi...   \n",
       "4  https://www.zomato.com/bangalore/grand-village...   \n",
       "\n",
       "                                             address                   name  \\\n",
       "0  942, 21st Main Road, 2nd Stage, Banashankari, ...                  Jalsa   \n",
       "1  2nd Floor, 80 Feet Road, Near Big Bazaar, 6th ...         Spice Elephant   \n",
       "2  1112, Next to KIMS Medical College, 17th Cross...        San Churro Cafe   \n",
       "3  1st Floor, Annakuteera, 3rd Stage, Banashankar...  Addhuri Udupi Bhojana   \n",
       "4  10, 3rd Floor, Lakshmi Associates, Gandhi Baza...          Grand Village   \n",
       "\n",
       "  online_order book_table   rate  votes                             phone  \\\n",
       "0          Yes        Yes  4.1/5    775    080 42297555\\r\\n+91 9743772233   \n",
       "1          Yes         No  4.1/5    787                      080 41714161   \n",
       "2          Yes         No  3.8/5    918                    +91 9663487993   \n",
       "3           No         No  3.7/5     88                    +91 9620009302   \n",
       "4           No         No  3.8/5    166  +91 8026612447\\r\\n+91 9901210005   \n",
       "\n",
       "       location            rest_type  \\\n",
       "0  Banashankari        Casual Dining   \n",
       "1  Banashankari        Casual Dining   \n",
       "2  Banashankari  Cafe, Casual Dining   \n",
       "3  Banashankari          Quick Bites   \n",
       "4  Basavanagudi        Casual Dining   \n",
       "\n",
       "                                          dish_liked  \\\n",
       "0  Pasta, Lunch Buffet, Masala Papad, Paneer Laja...   \n",
       "1  Momos, Lunch Buffet, Chocolate Nirvana, Thai G...   \n",
       "2  Churros, Cannelloni, Minestrone Soup, Hot Choc...   \n",
       "3                                        Masala Dosa   \n",
       "4                                Panipuri, Gol Gappe   \n",
       "\n",
       "                         cuisines approx_cost(for two people)  \\\n",
       "0  North Indian, Mughlai, Chinese                         800   \n",
       "1     Chinese, North Indian, Thai                         800   \n",
       "2          Cafe, Mexican, Italian                         800   \n",
       "3      South Indian, North Indian                         300   \n",
       "4        North Indian, Rajasthani                         600   \n",
       "\n",
       "                                        reviews_list menu_item  \\\n",
       "0  [('Rated 4.0', 'RATED\\n  A beautiful place to ...        []   \n",
       "1  [('Rated 4.0', 'RATED\\n  Had been here for din...        []   \n",
       "2  [('Rated 3.0', \"RATED\\n  Ambience is not that ...        []   \n",
       "3  [('Rated 4.0', \"RATED\\n  Great food and proper...        []   \n",
       "4  [('Rated 4.0', 'RATED\\n  Very good restaurant ...        []   \n",
       "\n",
       "  listed_in(type) listed_in(city)  \n",
       "0          Buffet    Banashankari  \n",
       "1          Buffet    Banashankari  \n",
       "2          Buffet    Banashankari  \n",
       "3          Buffet    Banashankari  \n",
       "4          Buffet    Banashankari  "
      ]
     },
     "execution_count": 25,
     "metadata": {},
     "output_type": "execute_result"
    }
   ],
   "source": [
    "df = pd.read_csv(\"zomato.csv\")\n",
    "df.head()"
   ]
  },
  {
   "cell_type": "code",
   "execution_count": 26,
   "id": "90639287",
   "metadata": {},
   "outputs": [],
   "source": [
    "columns_to_remove = ['url', 'address', 'phone', 'dish_liked', 'cuisines', 'approx_cost(for two people)', 'reviews_list', 'menu_item', 'listed_in(type)', 'listed_in(city)']\n",
    "\n",
    "df.drop(columns=columns_to_remove, inplace=True)"
   ]
  },
  {
   "cell_type": "code",
   "execution_count": 27,
   "id": "c833e427",
   "metadata": {},
   "outputs": [
    {
     "data": {
      "text/html": [
       "<div>\n",
       "<style scoped>\n",
       "    .dataframe tbody tr th:only-of-type {\n",
       "        vertical-align: middle;\n",
       "    }\n",
       "\n",
       "    .dataframe tbody tr th {\n",
       "        vertical-align: top;\n",
       "    }\n",
       "\n",
       "    .dataframe thead th {\n",
       "        text-align: right;\n",
       "    }\n",
       "</style>\n",
       "<table border=\"1\" class=\"dataframe\">\n",
       "  <thead>\n",
       "    <tr style=\"text-align: right;\">\n",
       "      <th></th>\n",
       "      <th>name</th>\n",
       "      <th>online_order</th>\n",
       "      <th>book_table</th>\n",
       "      <th>rate</th>\n",
       "      <th>votes</th>\n",
       "      <th>location</th>\n",
       "      <th>rest_type</th>\n",
       "    </tr>\n",
       "  </thead>\n",
       "  <tbody>\n",
       "    <tr>\n",
       "      <th>0</th>\n",
       "      <td>Jalsa</td>\n",
       "      <td>Yes</td>\n",
       "      <td>Yes</td>\n",
       "      <td>4.1/5</td>\n",
       "      <td>775</td>\n",
       "      <td>Banashankari</td>\n",
       "      <td>Casual Dining</td>\n",
       "    </tr>\n",
       "    <tr>\n",
       "      <th>1</th>\n",
       "      <td>Spice Elephant</td>\n",
       "      <td>Yes</td>\n",
       "      <td>No</td>\n",
       "      <td>4.1/5</td>\n",
       "      <td>787</td>\n",
       "      <td>Banashankari</td>\n",
       "      <td>Casual Dining</td>\n",
       "    </tr>\n",
       "    <tr>\n",
       "      <th>2</th>\n",
       "      <td>San Churro Cafe</td>\n",
       "      <td>Yes</td>\n",
       "      <td>No</td>\n",
       "      <td>3.8/5</td>\n",
       "      <td>918</td>\n",
       "      <td>Banashankari</td>\n",
       "      <td>Cafe, Casual Dining</td>\n",
       "    </tr>\n",
       "    <tr>\n",
       "      <th>3</th>\n",
       "      <td>Addhuri Udupi Bhojana</td>\n",
       "      <td>No</td>\n",
       "      <td>No</td>\n",
       "      <td>3.7/5</td>\n",
       "      <td>88</td>\n",
       "      <td>Banashankari</td>\n",
       "      <td>Quick Bites</td>\n",
       "    </tr>\n",
       "    <tr>\n",
       "      <th>4</th>\n",
       "      <td>Grand Village</td>\n",
       "      <td>No</td>\n",
       "      <td>No</td>\n",
       "      <td>3.8/5</td>\n",
       "      <td>166</td>\n",
       "      <td>Basavanagudi</td>\n",
       "      <td>Casual Dining</td>\n",
       "    </tr>\n",
       "    <tr>\n",
       "      <th>5</th>\n",
       "      <td>Timepass Dinner</td>\n",
       "      <td>Yes</td>\n",
       "      <td>No</td>\n",
       "      <td>3.8/5</td>\n",
       "      <td>286</td>\n",
       "      <td>Basavanagudi</td>\n",
       "      <td>Casual Dining</td>\n",
       "    </tr>\n",
       "    <tr>\n",
       "      <th>6</th>\n",
       "      <td>Rosewood International Hotel - Bar &amp; Restaurant</td>\n",
       "      <td>No</td>\n",
       "      <td>No</td>\n",
       "      <td>3.6/5</td>\n",
       "      <td>8</td>\n",
       "      <td>Mysore Road</td>\n",
       "      <td>Casual Dining</td>\n",
       "    </tr>\n",
       "    <tr>\n",
       "      <th>7</th>\n",
       "      <td>Onesta</td>\n",
       "      <td>Yes</td>\n",
       "      <td>Yes</td>\n",
       "      <td>4.6/5</td>\n",
       "      <td>2556</td>\n",
       "      <td>Banashankari</td>\n",
       "      <td>Casual Dining, Cafe</td>\n",
       "    </tr>\n",
       "    <tr>\n",
       "      <th>8</th>\n",
       "      <td>Penthouse Cafe</td>\n",
       "      <td>Yes</td>\n",
       "      <td>No</td>\n",
       "      <td>4.0/5</td>\n",
       "      <td>324</td>\n",
       "      <td>Banashankari</td>\n",
       "      <td>Cafe</td>\n",
       "    </tr>\n",
       "    <tr>\n",
       "      <th>9</th>\n",
       "      <td>Smacznego</td>\n",
       "      <td>Yes</td>\n",
       "      <td>No</td>\n",
       "      <td>4.2/5</td>\n",
       "      <td>504</td>\n",
       "      <td>Banashankari</td>\n",
       "      <td>Cafe</td>\n",
       "    </tr>\n",
       "  </tbody>\n",
       "</table>\n",
       "</div>"
      ],
      "text/plain": [
       "                                              name online_order book_table  \\\n",
       "0                                            Jalsa          Yes        Yes   \n",
       "1                                   Spice Elephant          Yes         No   \n",
       "2                                  San Churro Cafe          Yes         No   \n",
       "3                            Addhuri Udupi Bhojana           No         No   \n",
       "4                                    Grand Village           No         No   \n",
       "5                                  Timepass Dinner          Yes         No   \n",
       "6  Rosewood International Hotel - Bar & Restaurant           No         No   \n",
       "7                                           Onesta          Yes        Yes   \n",
       "8                                   Penthouse Cafe          Yes         No   \n",
       "9                                        Smacznego          Yes         No   \n",
       "\n",
       "    rate  votes      location            rest_type  \n",
       "0  4.1/5    775  Banashankari        Casual Dining  \n",
       "1  4.1/5    787  Banashankari        Casual Dining  \n",
       "2  3.8/5    918  Banashankari  Cafe, Casual Dining  \n",
       "3  3.7/5     88  Banashankari          Quick Bites  \n",
       "4  3.8/5    166  Basavanagudi        Casual Dining  \n",
       "5  3.8/5    286  Basavanagudi        Casual Dining  \n",
       "6  3.6/5      8   Mysore Road        Casual Dining  \n",
       "7  4.6/5   2556  Banashankari  Casual Dining, Cafe  \n",
       "8  4.0/5    324  Banashankari                 Cafe  \n",
       "9  4.2/5    504  Banashankari                 Cafe  "
      ]
     },
     "execution_count": 27,
     "metadata": {},
     "output_type": "execute_result"
    }
   ],
   "source": [
    "df.head(10)"
   ]
  },
  {
   "cell_type": "code",
   "execution_count": 30,
   "id": "b3060ec9",
   "metadata": {},
   "outputs": [
    {
     "data": {
      "text/plain": [
       "Quick Bites                   19132\n",
       "Casual Dining                 10330\n",
       "Cafe                           3732\n",
       "Delivery                       2604\n",
       "Dessert Parlor                 2263\n",
       "                              ...  \n",
       "Dessert Parlor, Kiosk             2\n",
       "Food Court, Beverage Shop         2\n",
       "Dessert Parlor, Food Court        2\n",
       "Sweet Shop, Dessert Parlor        1\n",
       "Quick Bites, Kiosk                1\n",
       "Name: rest_type, Length: 93, dtype: int64"
      ]
     },
     "execution_count": 30,
     "metadata": {},
     "output_type": "execute_result"
    }
   ],
   "source": [
    "df['rest_type'].value_counts()"
   ]
  },
  {
   "cell_type": "code",
   "execution_count": 32,
   "id": "5a1f151b",
   "metadata": {},
   "outputs": [],
   "source": [
    "# Get the top 5 classifications\n",
    "top_classifications = df['rest_type'].value_counts().index[:5]\n",
    "\n",
    "# Filter the DataFrame to keep only the top 5 classifications\n",
    "df = df[df['rest_type'].isin(top_classifications)]"
   ]
  },
  {
   "cell_type": "code",
   "execution_count": 33,
   "id": "eaca1998",
   "metadata": {},
   "outputs": [
    {
     "data": {
      "text/plain": [
       "Quick Bites       19132\n",
       "Casual Dining     10330\n",
       "Cafe               3732\n",
       "Delivery           2604\n",
       "Dessert Parlor     2263\n",
       "Name: rest_type, dtype: int64"
      ]
     },
     "execution_count": 33,
     "metadata": {},
     "output_type": "execute_result"
    }
   ],
   "source": [
    "df['rest_type'].value_counts()"
   ]
  },
  {
   "cell_type": "code",
   "execution_count": 37,
   "id": "0ad8b6ee",
   "metadata": {},
   "outputs": [
    {
     "data": {
      "text/plain": [
       "0     4101\n",
       "22    1926\n",
       "45    1735\n",
       "29    1642\n",
       "32    1570\n",
       "      ... \n",
       "11       3\n",
       "30       3\n",
       "68       2\n",
       "88       2\n",
       "64       1\n",
       "Name: location, Length: 93, dtype: int64"
      ]
     },
     "execution_count": 37,
     "metadata": {},
     "output_type": "execute_result"
    }
   ],
   "source": [
    "df['location'].value_counts()"
   ]
  },
  {
   "cell_type": "code",
   "execution_count": 38,
   "id": "ccf6435b",
   "metadata": {},
   "outputs": [],
   "source": [
    "# Get the top 10 classifications\n",
    "top_classifications = df['location'].value_counts().index[:10]\n",
    "\n",
    "# Filter the DataFrame to keep only the top 10 classifications\n",
    "df = df[df['location'].isin(top_classifications)]"
   ]
  },
  {
   "cell_type": "code",
   "execution_count": 39,
   "id": "04c927e6",
   "metadata": {},
   "outputs": [
    {
     "data": {
      "text/plain": [
       "0     4101\n",
       "22    1926\n",
       "45    1735\n",
       "29    1642\n",
       "32    1570\n",
       "89    1471\n",
       "27    1468\n",
       "56    1386\n",
       "3     1208\n",
       "19     973\n",
       "Name: location, dtype: int64"
      ]
     },
     "execution_count": 39,
     "metadata": {},
     "output_type": "execute_result"
    }
   ],
   "source": [
    "df['location'].value_counts()"
   ]
  },
  {
   "cell_type": "code",
   "execution_count": 40,
   "id": "e664d2ff",
   "metadata": {},
   "outputs": [
    {
     "data": {
      "text/plain": [
       "name               0\n",
       "online_order       0\n",
       "book_table         0\n",
       "rate            2628\n",
       "votes              0\n",
       "location           0\n",
       "rest_type          0\n",
       "dtype: int64"
      ]
     },
     "execution_count": 40,
     "metadata": {},
     "output_type": "execute_result"
    }
   ],
   "source": [
    "df.isnull().sum()"
   ]
  },
  {
   "cell_type": "code",
   "execution_count": 41,
   "id": "10e2c6bf",
   "metadata": {},
   "outputs": [],
   "source": [
    "le = LabelEncoder()\n",
    "df['online_order'] = le.fit_transform(df['online_order'])\n",
    "df['book_table'] = le.fit_transform(df['book_table'])\n",
    "df['location'] = le.fit_transform(df['location'])\n",
    "df['rest_type'] = le.fit_transform(df['rest_type'])"
   ]
  },
  {
   "cell_type": "code",
   "execution_count": 42,
   "id": "2a7b4c1d",
   "metadata": {},
   "outputs": [
    {
     "data": {
      "text/html": [
       "<div>\n",
       "<style scoped>\n",
       "    .dataframe tbody tr th:only-of-type {\n",
       "        vertical-align: middle;\n",
       "    }\n",
       "\n",
       "    .dataframe tbody tr th {\n",
       "        vertical-align: top;\n",
       "    }\n",
       "\n",
       "    .dataframe thead th {\n",
       "        text-align: right;\n",
       "    }\n",
       "</style>\n",
       "<table border=\"1\" class=\"dataframe\">\n",
       "  <thead>\n",
       "    <tr style=\"text-align: right;\">\n",
       "      <th></th>\n",
       "      <th>name</th>\n",
       "      <th>online_order</th>\n",
       "      <th>book_table</th>\n",
       "      <th>rate</th>\n",
       "      <th>votes</th>\n",
       "      <th>location</th>\n",
       "      <th>rest_type</th>\n",
       "    </tr>\n",
       "  </thead>\n",
       "  <tbody>\n",
       "    <tr>\n",
       "      <th>38</th>\n",
       "      <td>Empire Restaurant</td>\n",
       "      <td>1</td>\n",
       "      <td>0</td>\n",
       "      <td>4.4/5</td>\n",
       "      <td>4884</td>\n",
       "      <td>6</td>\n",
       "      <td>1</td>\n",
       "    </tr>\n",
       "    <tr>\n",
       "      <th>53</th>\n",
       "      <td>Biryanis And More</td>\n",
       "      <td>1</td>\n",
       "      <td>0</td>\n",
       "      <td>4.0/5</td>\n",
       "      <td>618</td>\n",
       "      <td>6</td>\n",
       "      <td>1</td>\n",
       "    </tr>\n",
       "    <tr>\n",
       "      <th>66</th>\n",
       "      <td>Namma Brahmin's Idli</td>\n",
       "      <td>1</td>\n",
       "      <td>0</td>\n",
       "      <td>3.6/5</td>\n",
       "      <td>34</td>\n",
       "      <td>6</td>\n",
       "      <td>4</td>\n",
       "    </tr>\n",
       "    <tr>\n",
       "      <th>86</th>\n",
       "      <td>Meghana Foods</td>\n",
       "      <td>1</td>\n",
       "      <td>0</td>\n",
       "      <td>4.4/5</td>\n",
       "      <td>4401</td>\n",
       "      <td>6</td>\n",
       "      <td>1</td>\n",
       "    </tr>\n",
       "    <tr>\n",
       "      <th>148</th>\n",
       "      <td>Sri Udupi Food Hub</td>\n",
       "      <td>1</td>\n",
       "      <td>1</td>\n",
       "      <td>4.1/5</td>\n",
       "      <td>175</td>\n",
       "      <td>6</td>\n",
       "      <td>1</td>\n",
       "    </tr>\n",
       "    <tr>\n",
       "      <th>155</th>\n",
       "      <td>Roll Over</td>\n",
       "      <td>1</td>\n",
       "      <td>0</td>\n",
       "      <td>4.1/5</td>\n",
       "      <td>438</td>\n",
       "      <td>6</td>\n",
       "      <td>3</td>\n",
       "    </tr>\n",
       "    <tr>\n",
       "      <th>159</th>\n",
       "      <td>Wahab</td>\n",
       "      <td>1</td>\n",
       "      <td>0</td>\n",
       "      <td>3.7/5</td>\n",
       "      <td>97</td>\n",
       "      <td>6</td>\n",
       "      <td>4</td>\n",
       "    </tr>\n",
       "    <tr>\n",
       "      <th>162</th>\n",
       "      <td>Canton</td>\n",
       "      <td>1</td>\n",
       "      <td>0</td>\n",
       "      <td>3.6/5</td>\n",
       "      <td>195</td>\n",
       "      <td>6</td>\n",
       "      <td>1</td>\n",
       "    </tr>\n",
       "    <tr>\n",
       "      <th>164</th>\n",
       "      <td>The Blue Wagon - Kitchen</td>\n",
       "      <td>1</td>\n",
       "      <td>0</td>\n",
       "      <td>4.6/5</td>\n",
       "      <td>228</td>\n",
       "      <td>6</td>\n",
       "      <td>0</td>\n",
       "    </tr>\n",
       "    <tr>\n",
       "      <th>166</th>\n",
       "      <td>Patio 805</td>\n",
       "      <td>1</td>\n",
       "      <td>1</td>\n",
       "      <td>4.1/5</td>\n",
       "      <td>364</td>\n",
       "      <td>6</td>\n",
       "      <td>1</td>\n",
       "    </tr>\n",
       "  </tbody>\n",
       "</table>\n",
       "</div>"
      ],
      "text/plain": [
       "                         name  online_order  book_table   rate  votes  \\\n",
       "38          Empire Restaurant             1           0  4.4/5   4884   \n",
       "53          Biryanis And More             1           0  4.0/5    618   \n",
       "66       Namma Brahmin's Idli             1           0  3.6/5     34   \n",
       "86              Meghana Foods             1           0  4.4/5   4401   \n",
       "148        Sri Udupi Food Hub             1           1  4.1/5    175   \n",
       "155                 Roll Over             1           0  4.1/5    438   \n",
       "159                     Wahab             1           0  3.7/5     97   \n",
       "162                    Canton             1           0  3.6/5    195   \n",
       "164  The Blue Wagon - Kitchen             1           0  4.6/5    228   \n",
       "166                 Patio 805             1           1  4.1/5    364   \n",
       "\n",
       "     location  rest_type  \n",
       "38          6          1  \n",
       "53          6          1  \n",
       "66          6          4  \n",
       "86          6          1  \n",
       "148         6          1  \n",
       "155         6          3  \n",
       "159         6          4  \n",
       "162         6          1  \n",
       "164         6          0  \n",
       "166         6          1  "
      ]
     },
     "execution_count": 42,
     "metadata": {},
     "output_type": "execute_result"
    }
   ],
   "source": [
    "df.head(10)"
   ]
  },
  {
   "cell_type": "code",
   "execution_count": 43,
   "id": "dd9694b9",
   "metadata": {},
   "outputs": [
    {
     "data": {
      "text/plain": [
       "name               0\n",
       "online_order       0\n",
       "book_table         0\n",
       "rate            2628\n",
       "votes              0\n",
       "location           0\n",
       "rest_type          0\n",
       "dtype: int64"
      ]
     },
     "execution_count": 43,
     "metadata": {},
     "output_type": "execute_result"
    }
   ],
   "source": [
    "df.isnull().sum()"
   ]
  },
  {
   "cell_type": "code",
   "execution_count": 44,
   "id": "888c20e0",
   "metadata": {},
   "outputs": [],
   "source": [
    "df.drop(columns=\"rate\", inplace=True)"
   ]
  },
  {
   "cell_type": "code",
   "execution_count": 45,
   "id": "8496bb50",
   "metadata": {},
   "outputs": [
    {
     "data": {
      "text/plain": [
       "name            0\n",
       "online_order    0\n",
       "book_table      0\n",
       "votes           0\n",
       "location        0\n",
       "rest_type       0\n",
       "dtype: int64"
      ]
     },
     "execution_count": 45,
     "metadata": {},
     "output_type": "execute_result"
    }
   ],
   "source": [
    "df.isnull().sum()"
   ]
  },
  {
   "cell_type": "code",
   "execution_count": 46,
   "id": "38f704ef",
   "metadata": {},
   "outputs": [
    {
     "data": {
      "text/html": [
       "<div>\n",
       "<style scoped>\n",
       "    .dataframe tbody tr th:only-of-type {\n",
       "        vertical-align: middle;\n",
       "    }\n",
       "\n",
       "    .dataframe tbody tr th {\n",
       "        vertical-align: top;\n",
       "    }\n",
       "\n",
       "    .dataframe thead th {\n",
       "        text-align: right;\n",
       "    }\n",
       "</style>\n",
       "<table border=\"1\" class=\"dataframe\">\n",
       "  <thead>\n",
       "    <tr style=\"text-align: right;\">\n",
       "      <th></th>\n",
       "      <th>name</th>\n",
       "      <th>online_order</th>\n",
       "      <th>book_table</th>\n",
       "      <th>votes</th>\n",
       "      <th>location</th>\n",
       "      <th>rest_type</th>\n",
       "    </tr>\n",
       "  </thead>\n",
       "  <tbody>\n",
       "    <tr>\n",
       "      <th>38</th>\n",
       "      <td>Empire Restaurant</td>\n",
       "      <td>1</td>\n",
       "      <td>0</td>\n",
       "      <td>4884</td>\n",
       "      <td>6</td>\n",
       "      <td>1</td>\n",
       "    </tr>\n",
       "    <tr>\n",
       "      <th>53</th>\n",
       "      <td>Biryanis And More</td>\n",
       "      <td>1</td>\n",
       "      <td>0</td>\n",
       "      <td>618</td>\n",
       "      <td>6</td>\n",
       "      <td>1</td>\n",
       "    </tr>\n",
       "    <tr>\n",
       "      <th>66</th>\n",
       "      <td>Namma Brahmin's Idli</td>\n",
       "      <td>1</td>\n",
       "      <td>0</td>\n",
       "      <td>34</td>\n",
       "      <td>6</td>\n",
       "      <td>4</td>\n",
       "    </tr>\n",
       "    <tr>\n",
       "      <th>86</th>\n",
       "      <td>Meghana Foods</td>\n",
       "      <td>1</td>\n",
       "      <td>0</td>\n",
       "      <td>4401</td>\n",
       "      <td>6</td>\n",
       "      <td>1</td>\n",
       "    </tr>\n",
       "    <tr>\n",
       "      <th>148</th>\n",
       "      <td>Sri Udupi Food Hub</td>\n",
       "      <td>1</td>\n",
       "      <td>1</td>\n",
       "      <td>175</td>\n",
       "      <td>6</td>\n",
       "      <td>1</td>\n",
       "    </tr>\n",
       "  </tbody>\n",
       "</table>\n",
       "</div>"
      ],
      "text/plain": [
       "                     name  online_order  book_table  votes  location  \\\n",
       "38      Empire Restaurant             1           0   4884         6   \n",
       "53      Biryanis And More             1           0    618         6   \n",
       "66   Namma Brahmin's Idli             1           0     34         6   \n",
       "86          Meghana Foods             1           0   4401         6   \n",
       "148    Sri Udupi Food Hub             1           1    175         6   \n",
       "\n",
       "     rest_type  \n",
       "38           1  \n",
       "53           1  \n",
       "66           4  \n",
       "86           1  \n",
       "148          1  "
      ]
     },
     "execution_count": 46,
     "metadata": {},
     "output_type": "execute_result"
    }
   ],
   "source": [
    "df.head()"
   ]
  },
  {
   "cell_type": "code",
   "execution_count": 47,
   "id": "851869f4",
   "metadata": {},
   "outputs": [],
   "source": [
    "X = df[['online_order', 'book_table', 'location']]\n",
    "y = df['rest_type'] "
   ]
  },
  {
   "cell_type": "code",
   "execution_count": 48,
   "id": "7f1fd252",
   "metadata": {},
   "outputs": [],
   "source": [
    "X_train, X_test, y_train, y_test = train_test_split(X, y, test_size=0.2, random_state=42)"
   ]
  },
  {
   "cell_type": "code",
   "execution_count": 49,
   "id": "4cfc94b9",
   "metadata": {},
   "outputs": [],
   "source": [
    "# Create a Decision Tree Classifier\n",
    "clf = DecisionTreeClassifier()"
   ]
  },
  {
   "cell_type": "code",
   "execution_count": 50,
   "id": "564fde78",
   "metadata": {},
   "outputs": [
    {
     "data": {
      "text/html": [
       "<style>#sk-container-id-2 {color: black;background-color: white;}#sk-container-id-2 pre{padding: 0;}#sk-container-id-2 div.sk-toggleable {background-color: white;}#sk-container-id-2 label.sk-toggleable__label {cursor: pointer;display: block;width: 100%;margin-bottom: 0;padding: 0.3em;box-sizing: border-box;text-align: center;}#sk-container-id-2 label.sk-toggleable__label-arrow:before {content: \"▸\";float: left;margin-right: 0.25em;color: #696969;}#sk-container-id-2 label.sk-toggleable__label-arrow:hover:before {color: black;}#sk-container-id-2 div.sk-estimator:hover label.sk-toggleable__label-arrow:before {color: black;}#sk-container-id-2 div.sk-toggleable__content {max-height: 0;max-width: 0;overflow: hidden;text-align: left;background-color: #f0f8ff;}#sk-container-id-2 div.sk-toggleable__content pre {margin: 0.2em;color: black;border-radius: 0.25em;background-color: #f0f8ff;}#sk-container-id-2 input.sk-toggleable__control:checked~div.sk-toggleable__content {max-height: 200px;max-width: 100%;overflow: auto;}#sk-container-id-2 input.sk-toggleable__control:checked~label.sk-toggleable__label-arrow:before {content: \"▾\";}#sk-container-id-2 div.sk-estimator input.sk-toggleable__control:checked~label.sk-toggleable__label {background-color: #d4ebff;}#sk-container-id-2 div.sk-label input.sk-toggleable__control:checked~label.sk-toggleable__label {background-color: #d4ebff;}#sk-container-id-2 input.sk-hidden--visually {border: 0;clip: rect(1px 1px 1px 1px);clip: rect(1px, 1px, 1px, 1px);height: 1px;margin: -1px;overflow: hidden;padding: 0;position: absolute;width: 1px;}#sk-container-id-2 div.sk-estimator {font-family: monospace;background-color: #f0f8ff;border: 1px dotted black;border-radius: 0.25em;box-sizing: border-box;margin-bottom: 0.5em;}#sk-container-id-2 div.sk-estimator:hover {background-color: #d4ebff;}#sk-container-id-2 div.sk-parallel-item::after {content: \"\";width: 100%;border-bottom: 1px solid gray;flex-grow: 1;}#sk-container-id-2 div.sk-label:hover label.sk-toggleable__label {background-color: #d4ebff;}#sk-container-id-2 div.sk-serial::before {content: \"\";position: absolute;border-left: 1px solid gray;box-sizing: border-box;top: 0;bottom: 0;left: 50%;z-index: 0;}#sk-container-id-2 div.sk-serial {display: flex;flex-direction: column;align-items: center;background-color: white;padding-right: 0.2em;padding-left: 0.2em;position: relative;}#sk-container-id-2 div.sk-item {position: relative;z-index: 1;}#sk-container-id-2 div.sk-parallel {display: flex;align-items: stretch;justify-content: center;background-color: white;position: relative;}#sk-container-id-2 div.sk-item::before, #sk-container-id-2 div.sk-parallel-item::before {content: \"\";position: absolute;border-left: 1px solid gray;box-sizing: border-box;top: 0;bottom: 0;left: 50%;z-index: -1;}#sk-container-id-2 div.sk-parallel-item {display: flex;flex-direction: column;z-index: 1;position: relative;background-color: white;}#sk-container-id-2 div.sk-parallel-item:first-child::after {align-self: flex-end;width: 50%;}#sk-container-id-2 div.sk-parallel-item:last-child::after {align-self: flex-start;width: 50%;}#sk-container-id-2 div.sk-parallel-item:only-child::after {width: 0;}#sk-container-id-2 div.sk-dashed-wrapped {border: 1px dashed gray;margin: 0 0.4em 0.5em 0.4em;box-sizing: border-box;padding-bottom: 0.4em;background-color: white;}#sk-container-id-2 div.sk-label label {font-family: monospace;font-weight: bold;display: inline-block;line-height: 1.2em;}#sk-container-id-2 div.sk-label-container {text-align: center;}#sk-container-id-2 div.sk-container {/* jupyter's `normalize.less` sets `[hidden] { display: none; }` but bootstrap.min.css set `[hidden] { display: none !important; }` so we also need the `!important` here to be able to override the default hidden behavior on the sphinx rendered scikit-learn.org. See: https://github.com/scikit-learn/scikit-learn/issues/21755 */display: inline-block !important;position: relative;}#sk-container-id-2 div.sk-text-repr-fallback {display: none;}</style><div id=\"sk-container-id-2\" class=\"sk-top-container\"><div class=\"sk-text-repr-fallback\"><pre>DecisionTreeClassifier()</pre><b>In a Jupyter environment, please rerun this cell to show the HTML representation or trust the notebook. <br />On GitHub, the HTML representation is unable to render, please try loading this page with nbviewer.org.</b></div><div class=\"sk-container\" hidden><div class=\"sk-item\"><div class=\"sk-estimator sk-toggleable\"><input class=\"sk-toggleable__control sk-hidden--visually\" id=\"sk-estimator-id-2\" type=\"checkbox\" checked><label for=\"sk-estimator-id-2\" class=\"sk-toggleable__label sk-toggleable__label-arrow\">DecisionTreeClassifier</label><div class=\"sk-toggleable__content\"><pre>DecisionTreeClassifier()</pre></div></div></div></div></div>"
      ],
      "text/plain": [
       "DecisionTreeClassifier()"
      ]
     },
     "execution_count": 50,
     "metadata": {},
     "output_type": "execute_result"
    }
   ],
   "source": [
    "# Train the classifier on the training data\n",
    "clf.fit(X_train, y_train)"
   ]
  },
  {
   "cell_type": "code",
   "execution_count": 51,
   "id": "b3134292",
   "metadata": {},
   "outputs": [],
   "source": [
    "# Make predictions on the test data\n",
    "y_pred = clf.predict(X_test)"
   ]
  },
  {
   "cell_type": "code",
   "execution_count": 52,
   "id": "4ffb723f",
   "metadata": {},
   "outputs": [],
   "source": [
    "from sklearn import tree\n",
    "d=clf"
   ]
  },
  {
   "cell_type": "code",
   "execution_count": 53,
   "id": "8c773188",
   "metadata": {
    "scrolled": true
   },
   "outputs": [
    {
     "data": {
      "text/plain": [
       "[Text(0.47634345794392524, 0.9444444444444444, 'x[1] <= 0.5\\ngini = 0.654\\nsamples = 13984\\nvalue = [1303, 3850, 949, 846, 7036]'),\n",
       " Text(0.13843457943925233, 0.8333333333333334, 'x[2] <= 0.5\\ngini = 0.632\\nsamples = 12778\\nvalue = [1108, 2875, 949, 846, 7000]'),\n",
       " Text(0.037383177570093455, 0.7222222222222222, 'x[0] <= 0.5\\ngini = 0.499\\nsamples = 3155\\nvalue = [194, 506, 209, 92, 2154]'),\n",
       " Text(0.018691588785046728, 0.6111111111111112, 'gini = 0.413\\nsamples = 1132\\nvalue = [63, 140, 46, 31, 852]'),\n",
       " Text(0.056074766355140186, 0.6111111111111112, 'gini = 0.541\\nsamples = 2023\\nvalue = [131, 366, 163, 61, 1302]'),\n",
       " Text(0.23948598130841123, 0.7222222222222222, 'x[2] <= 2.5\\ngini = 0.665\\nsamples = 9623\\nvalue = [914, 2369, 740, 754, 4846]'),\n",
       " Text(0.09345794392523364, 0.6111111111111112, 'x[2] <= 1.5\\ngini = 0.593\\nsamples = 1668\\nvalue = [103, 397, 98, 98, 972]'),\n",
       " Text(0.056074766355140186, 0.5, 'x[0] <= 0.5\\ngini = 0.619\\nsamples = 916\\nvalue = [66, 206, 52, 78, 514]'),\n",
       " Text(0.037383177570093455, 0.3888888888888889, 'gini = 0.627\\nsamples = 358\\nvalue = [47, 72, 22, 18, 199]'),\n",
       " Text(0.07476635514018691, 0.3888888888888889, 'gini = 0.608\\nsamples = 558\\nvalue = [19, 134, 30, 60, 315]'),\n",
       " Text(0.1308411214953271, 0.5, 'x[0] <= 0.5\\ngini = 0.558\\nsamples = 752\\nvalue = [37, 191, 46, 20, 458]'),\n",
       " Text(0.11214953271028037, 0.3888888888888889, 'gini = 0.542\\nsamples = 420\\nvalue = [13, 108, 28, 10, 261]'),\n",
       " Text(0.14953271028037382, 0.3888888888888889, 'gini = 0.576\\nsamples = 332\\nvalue = [24, 83, 18, 10, 197]'),\n",
       " Text(0.3855140186915888, 0.6111111111111112, 'x[2] <= 7.5\\ngini = 0.678\\nsamples = 7955\\nvalue = [811, 1972, 642, 656, 3874]'),\n",
       " Text(0.2757009345794392, 0.5, 'x[2] <= 5.5\\ngini = 0.693\\nsamples = 5812\\nvalue = [695, 1438, 436, 535, 2708]'),\n",
       " Text(0.18691588785046728, 0.3888888888888889, 'x[2] <= 3.5\\ngini = 0.696\\nsamples = 3592\\nvalue = [358, 914, 385, 283, 1652]'),\n",
       " Text(0.14018691588785046, 0.2777777777777778, 'x[0] <= 0.5\\ngini = 0.654\\nsamples = 1421\\nvalue = [92, 348, 147, 101, 733]'),\n",
       " Text(0.12149532710280374, 0.16666666666666666, 'gini = 0.626\\nsamples = 332\\nvalue = [29, 58, 48, 11, 186]'),\n",
       " Text(0.1588785046728972, 0.16666666666666666, 'gini = 0.658\\nsamples = 1089\\nvalue = [63, 290, 99, 90, 547]'),\n",
       " Text(0.2336448598130841, 0.2777777777777778, 'x[2] <= 4.5\\ngini = 0.719\\nsamples = 2171\\nvalue = [266, 566, 238, 182, 919]'),\n",
       " Text(0.19626168224299065, 0.16666666666666666, 'x[0] <= 0.5\\ngini = 0.75\\nsamples = 988\\nvalue = [151, 232, 137, 95, 373]'),\n",
       " Text(0.17757009345794392, 0.05555555555555555, 'gini = 0.724\\nsamples = 308\\nvalue = [61, 57, 37, 21, 132]'),\n",
       " Text(0.21495327102803738, 0.05555555555555555, 'gini = 0.757\\nsamples = 680\\nvalue = [90, 175, 100, 74, 241]'),\n",
       " Text(0.27102803738317754, 0.16666666666666666, 'x[0] <= 0.5\\ngini = 0.685\\nsamples = 1183\\nvalue = [115, 334, 101, 87, 546]'),\n",
       " Text(0.2523364485981308, 0.05555555555555555, 'gini = 0.653\\nsamples = 486\\nvalue = [40, 144, 28, 34, 240]'),\n",
       " Text(0.2897196261682243, 0.05555555555555555, 'gini = 0.705\\nsamples = 697\\nvalue = [75, 190, 73, 53, 306]'),\n",
       " Text(0.3644859813084112, 0.3888888888888889, 'x[2] <= 6.5\\ngini = 0.682\\nsamples = 2220\\nvalue = [337, 524, 51, 252, 1056]'),\n",
       " Text(0.32710280373831774, 0.2777777777777778, 'x[0] <= 0.5\\ngini = 0.637\\nsamples = 1079\\nvalue = [130, 249, 11, 114, 575]'),\n",
       " Text(0.308411214953271, 0.16666666666666666, 'gini = 0.624\\nsamples = 306\\nvalue = [38, 58, 11, 27, 172]'),\n",
       " Text(0.34579439252336447, 0.16666666666666666, 'gini = 0.64\\nsamples = 773\\nvalue = [92, 191, 0, 87, 403]'),\n",
       " Text(0.40186915887850466, 0.2777777777777778, 'x[0] <= 0.5\\ngini = 0.715\\nsamples = 1141\\nvalue = [207, 275, 40, 138, 481]'),\n",
       " Text(0.38317757009345793, 0.16666666666666666, 'gini = 0.695\\nsamples = 340\\nvalue = [55, 70, 26, 28, 161]'),\n",
       " Text(0.4205607476635514, 0.16666666666666666, 'gini = 0.72\\nsamples = 801\\nvalue = [152, 205, 14, 110, 320]'),\n",
       " Text(0.4953271028037383, 0.5, 'x[0] <= 0.5\\ngini = 0.627\\nsamples = 2143\\nvalue = [116, 534, 206, 121, 1166]'),\n",
       " Text(0.45794392523364486, 0.3888888888888889, 'x[2] <= 8.5\\ngini = 0.605\\nsamples = 912\\nvalue = [67, 193, 70, 54, 528]'),\n",
       " Text(0.4392523364485981, 0.2777777777777778, 'gini = 0.599\\nsamples = 390\\nvalue = [34, 75, 27, 24, 230]'),\n",
       " Text(0.4766355140186916, 0.2777777777777778, 'gini = 0.609\\nsamples = 522\\nvalue = [33, 118, 43, 30, 298]'),\n",
       " Text(0.5327102803738317, 0.3888888888888889, 'x[2] <= 8.5\\ngini = 0.638\\nsamples = 1231\\nvalue = [49, 341, 136, 67, 638]'),\n",
       " Text(0.514018691588785, 0.2777777777777778, 'gini = 0.62\\nsamples = 673\\nvalue = [28, 180, 66, 34, 365]'),\n",
       " Text(0.5514018691588785, 0.2777777777777778, 'gini = 0.657\\nsamples = 558\\nvalue = [21, 161, 70, 33, 273]'),\n",
       " Text(0.8142523364485982, 0.8333333333333334, 'x[2] <= 0.5\\ngini = 0.319\\nsamples = 1206\\nvalue = [195, 975, 0, 0, 36]'),\n",
       " Text(0.7523364485981309, 0.7222222222222222, 'x[0] <= 0.5\\ngini = 0.527\\nsamples = 95\\nvalue = [38, 53, 0, 0, 4]'),\n",
       " Text(0.7336448598130841, 0.6111111111111112, 'gini = 0.375\\nsamples = 16\\nvalue = [0, 12, 0, 0, 4]'),\n",
       " Text(0.7710280373831776, 0.6111111111111112, 'gini = 0.499\\nsamples = 79\\nvalue = [38, 41, 0, 0, 0]'),\n",
       " Text(0.8761682242990654, 0.7222222222222222, 'x[2] <= 7.5\\ngini = 0.29\\nsamples = 1111\\nvalue = [157, 922, 0, 0, 32]'),\n",
       " Text(0.8084112149532711, 0.6111111111111112, 'x[2] <= 6.5\\ngini = 0.32\\nsamples = 962\\nvalue = [157, 777, 0, 0, 28]'),\n",
       " Text(0.7289719626168224, 0.5, 'x[2] <= 2.5\\ngini = 0.257\\nsamples = 701\\nvalue = [74, 599, 0, 0, 28]'),\n",
       " Text(0.6261682242990654, 0.3888888888888889, 'x[2] <= 1.5\\ngini = 0.089\\nsamples = 87\\nvalue = [1, 83, 0, 0, 3]'),\n",
       " Text(0.5887850467289719, 0.2777777777777778, 'x[0] <= 0.5\\ngini = 0.042\\nsamples = 47\\nvalue = [1, 46, 0, 0, 0]'),\n",
       " Text(0.5700934579439252, 0.16666666666666666, 'gini = 0.278\\nsamples = 6\\nvalue = [1, 5, 0, 0, 0]'),\n",
       " Text(0.6074766355140186, 0.16666666666666666, 'gini = 0.0\\nsamples = 41\\nvalue = [0, 41, 0, 0, 0]'),\n",
       " Text(0.6635514018691588, 0.2777777777777778, 'x[0] <= 0.5\\ngini = 0.139\\nsamples = 40\\nvalue = [0, 37, 0, 0, 3]'),\n",
       " Text(0.6448598130841121, 0.16666666666666666, 'gini = 0.0\\nsamples = 9\\nvalue = [0, 9, 0, 0, 0]'),\n",
       " Text(0.6822429906542056, 0.16666666666666666, 'gini = 0.175\\nsamples = 31\\nvalue = [0, 28, 0, 0, 3]'),\n",
       " Text(0.8317757009345794, 0.3888888888888889, 'x[2] <= 4.5\\ngini = 0.278\\nsamples = 614\\nvalue = [73, 516, 0, 0, 25]'),\n",
       " Text(0.7570093457943925, 0.2777777777777778, 'x[0] <= 0.5\\ngini = 0.321\\nsamples = 308\\nvalue = [39, 250, 0, 0, 19]'),\n",
       " Text(0.719626168224299, 0.16666666666666666, 'x[2] <= 3.5\\ngini = 0.173\\nsamples = 43\\nvalue = [2, 39, 0, 0, 2]'),\n",
       " Text(0.7009345794392523, 0.05555555555555555, 'gini = 0.444\\nsamples = 6\\nvalue = [0, 4, 0, 0, 2]'),\n",
       " Text(0.7383177570093458, 0.05555555555555555, 'gini = 0.102\\nsamples = 37\\nvalue = [2, 35, 0, 0, 0]'),\n",
       " Text(0.794392523364486, 0.16666666666666666, 'x[2] <= 3.5\\ngini = 0.342\\nsamples = 265\\nvalue = [37, 211, 0, 0, 17]'),\n",
       " Text(0.7757009345794392, 0.05555555555555555, 'gini = 0.331\\nsamples = 108\\nvalue = [20, 86, 0, 0, 2]'),\n",
       " Text(0.8130841121495327, 0.05555555555555555, 'gini = 0.345\\nsamples = 157\\nvalue = [17, 125, 0, 0, 15]'),\n",
       " Text(0.9065420560747663, 0.2777777777777778, 'x[0] <= 0.5\\ngini = 0.232\\nsamples = 306\\nvalue = [34, 266, 0, 0, 6]'),\n",
       " Text(0.8691588785046729, 0.16666666666666666, 'x[2] <= 5.5\\ngini = 0.28\\nsamples = 95\\nvalue = [16, 79, 0, 0, 0]'),\n",
       " Text(0.8504672897196262, 0.05555555555555555, 'gini = 0.14\\nsamples = 53\\nvalue = [4, 49, 0, 0, 0]'),\n",
       " Text(0.8878504672897196, 0.05555555555555555, 'gini = 0.408\\nsamples = 42\\nvalue = [12, 30, 0, 0, 0]'),\n",
       " Text(0.9439252336448598, 0.16666666666666666, 'x[2] <= 5.5\\ngini = 0.206\\nsamples = 211\\nvalue = [18, 187, 0, 0, 6]'),\n",
       " Text(0.9252336448598131, 0.05555555555555555, 'gini = 0.244\\nsamples = 81\\nvalue = [5, 70, 0, 0, 6]'),\n",
       " Text(0.9626168224299065, 0.05555555555555555, 'gini = 0.18\\nsamples = 130\\nvalue = [13, 117, 0, 0, 0]'),\n",
       " Text(0.8878504672897196, 0.5, 'x[0] <= 0.5\\ngini = 0.434\\nsamples = 261\\nvalue = [83, 178, 0, 0, 0]'),\n",
       " Text(0.8691588785046729, 0.3888888888888889, 'gini = 0.391\\nsamples = 75\\nvalue = [20, 55, 0, 0, 0]'),\n",
       " Text(0.9065420560747663, 0.3888888888888889, 'gini = 0.448\\nsamples = 186\\nvalue = [63, 123, 0, 0, 0]'),\n",
       " Text(0.9439252336448598, 0.6111111111111112, 'x[2] <= 8.5\\ngini = 0.052\\nsamples = 149\\nvalue = [0, 145, 0, 0, 4]'),\n",
       " Text(0.9252336448598131, 0.5, 'gini = 0.0\\nsamples = 58\\nvalue = [0, 58, 0, 0, 0]'),\n",
       " Text(0.9626168224299065, 0.5, 'x[0] <= 0.5\\ngini = 0.084\\nsamples = 91\\nvalue = [0, 87, 0, 0, 4]'),\n",
       " Text(0.9439252336448598, 0.3888888888888889, 'gini = 0.0\\nsamples = 36\\nvalue = [0, 36, 0, 0, 0]'),\n",
       " Text(0.9813084112149533, 0.3888888888888889, 'gini = 0.135\\nsamples = 55\\nvalue = [0, 51, 0, 0, 4]')]"
      ]
     },
     "execution_count": 53,
     "metadata": {},
     "output_type": "execute_result"
    },
    {
     "data": {
      "image/png": "[encoded data removed]",
      "text/plain": [
       "<Figure size 1500x1000 with 1 Axes>"
      ]
     },
     "metadata": {},
     "output_type": "display_data"
    }
   ],
   "source": [
    "plt.figure(figsize=(15,10))\n",
    "tree.plot_tree(d,filled=True)"
   ]
  },
  {
   "cell_type": "code",
   "execution_count": 64,
   "id": "b58100a0",
   "metadata": {},
   "outputs": [
    {
     "name": "stdout",
     "output_type": "stream",
     "text": [
      "Accuracy: 0.5892448512585813\n",
      "Confusion Matrix:\n",
      "[[   0   49    0    0  257]\n",
      " [   0  252    0    0  680]\n",
      " [   0    0    0    0  240]\n",
      " [   0    0    0    0  201]\n",
      " [   0    9    0    0 1808]]\n",
      "Classification Report:\n",
      "              precision    recall  f1-score   support\n",
      "\n",
      "           0       0.00      0.00      0.00       306\n",
      "           1       0.81      0.27      0.41       932\n",
      "           2       0.00      0.00      0.00       240\n",
      "           3       0.00      0.00      0.00       201\n",
      "           4       0.57      1.00      0.72      1817\n",
      "\n",
      "    accuracy                           0.59      3496\n",
      "   macro avg       0.28      0.25      0.23      3496\n",
      "weighted avg       0.51      0.59      0.48      3496\n",
      "\n"
     ]
    },
    {
     "name": "stderr",
     "output_type": "stream",
     "text": [
      "D:\\Vybhav\\Anaconda\\lib\\site-packages\\sklearn\\metrics\\_classification.py:1344: UndefinedMetricWarning:\n",
      "\n",
      "Precision and F-score are ill-defined and being set to 0.0 in labels with no predicted samples. Use `zero_division` parameter to control this behavior.\n",
      "\n",
      "D:\\Vybhav\\Anaconda\\lib\\site-packages\\sklearn\\metrics\\_classification.py:1344: UndefinedMetricWarning:\n",
      "\n",
      "Precision and F-score are ill-defined and being set to 0.0 in labels with no predicted samples. Use `zero_division` parameter to control this behavior.\n",
      "\n",
      "D:\\Vybhav\\Anaconda\\lib\\site-packages\\sklearn\\metrics\\_classification.py:1344: UndefinedMetricWarning:\n",
      "\n",
      "Precision and F-score are ill-defined and being set to 0.0 in labels with no predicted samples. Use `zero_division` parameter to control this behavior.\n",
      "\n"
     ]
    }
   ],
   "source": [
    "# Evaluate the model\n",
    "accuracy = accuracy_score(y_test, y_pred)\n",
    "conf_matrix = confusion_matrix(y_test, y_pred)\n",
    "classification_rep = classification_report(y_test, y_pred)\n",
    "\n",
    "# Print the evaluation metrics\n",
    "print(\"Accuracy:\", accuracy)\n",
    "print(\"Confusion Matrix:\")\n",
    "print(conf_matrix)\n",
    "print(\"Classification Report:\")\n",
    "print(classification_rep)"
   ]
  },
  {
   "cell_type": "markdown",
   "id": "0d0a7ed1",
   "metadata": {},
   "source": [
    "# Random forest"
   ]
  },
  {
   "cell_type": "code",
   "execution_count": 65,
   "id": "d5312c33",
   "metadata": {},
   "outputs": [],
   "source": [
    "from sklearn.ensemble import RandomForestClassifier"
   ]
  },
  {
   "cell_type": "code",
   "execution_count": 66,
   "id": "94573d55",
   "metadata": {},
   "outputs": [],
   "source": [
    "rfc=RandomForestClassifier(n_estimators=300)"
   ]
  },
  {
   "cell_type": "code",
   "execution_count": 67,
   "id": "d0ed1309",
   "metadata": {},
   "outputs": [
    {
     "data": {
      "text/html": [
       "<style>#sk-container-id-3 {color: black;background-color: white;}#sk-container-id-3 pre{padding: 0;}#sk-container-id-3 div.sk-toggleable {background-color: white;}#sk-container-id-3 label.sk-toggleable__label {cursor: pointer;display: block;width: 100%;margin-bottom: 0;padding: 0.3em;box-sizing: border-box;text-align: center;}#sk-container-id-3 label.sk-toggleable__label-arrow:before {content: \"▸\";float: left;margin-right: 0.25em;color: #696969;}#sk-container-id-3 label.sk-toggleable__label-arrow:hover:before {color: black;}#sk-container-id-3 div.sk-estimator:hover label.sk-toggleable__label-arrow:before {color: black;}#sk-container-id-3 div.sk-toggleable__content {max-height: 0;max-width: 0;overflow: hidden;text-align: left;background-color: #f0f8ff;}#sk-container-id-3 div.sk-toggleable__content pre {margin: 0.2em;color: black;border-radius: 0.25em;background-color: #f0f8ff;}#sk-container-id-3 input.sk-toggleable__control:checked~div.sk-toggleable__content {max-height: 200px;max-width: 100%;overflow: auto;}#sk-container-id-3 input.sk-toggleable__control:checked~label.sk-toggleable__label-arrow:before {content: \"▾\";}#sk-container-id-3 div.sk-estimator input.sk-toggleable__control:checked~label.sk-toggleable__label {background-color: #d4ebff;}#sk-container-id-3 div.sk-label input.sk-toggleable__control:checked~label.sk-toggleable__label {background-color: #d4ebff;}#sk-container-id-3 input.sk-hidden--visually {border: 0;clip: rect(1px 1px 1px 1px);clip: rect(1px, 1px, 1px, 1px);height: 1px;margin: -1px;overflow: hidden;padding: 0;position: absolute;width: 1px;}#sk-container-id-3 div.sk-estimator {font-family: monospace;background-color: #f0f8ff;border: 1px dotted black;border-radius: 0.25em;box-sizing: border-box;margin-bottom: 0.5em;}#sk-container-id-3 div.sk-estimator:hover {background-color: #d4ebff;}#sk-container-id-3 div.sk-parallel-item::after {content: \"\";width: 100%;border-bottom: 1px solid gray;flex-grow: 1;}#sk-container-id-3 div.sk-label:hover label.sk-toggleable__label {background-color: #d4ebff;}#sk-container-id-3 div.sk-serial::before {content: \"\";position: absolute;border-left: 1px solid gray;box-sizing: border-box;top: 0;bottom: 0;left: 50%;z-index: 0;}#sk-container-id-3 div.sk-serial {display: flex;flex-direction: column;align-items: center;background-color: white;padding-right: 0.2em;padding-left: 0.2em;position: relative;}#sk-container-id-3 div.sk-item {position: relative;z-index: 1;}#sk-container-id-3 div.sk-parallel {display: flex;align-items: stretch;justify-content: center;background-color: white;position: relative;}#sk-container-id-3 div.sk-item::before, #sk-container-id-3 div.sk-parallel-item::before {content: \"\";position: absolute;border-left: 1px solid gray;box-sizing: border-box;top: 0;bottom: 0;left: 50%;z-index: -1;}#sk-container-id-3 div.sk-parallel-item {display: flex;flex-direction: column;z-index: 1;position: relative;background-color: white;}#sk-container-id-3 div.sk-parallel-item:first-child::after {align-self: flex-end;width: 50%;}#sk-container-id-3 div.sk-parallel-item:last-child::after {align-self: flex-start;width: 50%;}#sk-container-id-3 div.sk-parallel-item:only-child::after {width: 0;}#sk-container-id-3 div.sk-dashed-wrapped {border: 1px dashed gray;margin: 0 0.4em 0.5em 0.4em;box-sizing: border-box;padding-bottom: 0.4em;background-color: white;}#sk-container-id-3 div.sk-label label {font-family: monospace;font-weight: bold;display: inline-block;line-height: 1.2em;}#sk-container-id-3 div.sk-label-container {text-align: center;}#sk-container-id-3 div.sk-container {/* jupyter's `normalize.less` sets `[hidden] { display: none; }` but bootstrap.min.css set `[hidden] { display: none !important; }` so we also need the `!important` here to be able to override the default hidden behavior on the sphinx rendered scikit-learn.org. See: https://github.com/scikit-learn/scikit-learn/issues/21755 */display: inline-block !important;position: relative;}#sk-container-id-3 div.sk-text-repr-fallback {display: none;}</style><div id=\"sk-container-id-3\" class=\"sk-top-container\"><div class=\"sk-text-repr-fallback\"><pre>RandomForestClassifier(n_estimators=300)</pre><b>In a Jupyter environment, please rerun this cell to show the HTML representation or trust the notebook. <br />On GitHub, the HTML representation is unable to render, please try loading this page with nbviewer.org.</b></div><div class=\"sk-container\" hidden><div class=\"sk-item\"><div class=\"sk-estimator sk-toggleable\"><input class=\"sk-toggleable__control sk-hidden--visually\" id=\"sk-estimator-id-3\" type=\"checkbox\" checked><label for=\"sk-estimator-id-3\" class=\"sk-toggleable__label sk-toggleable__label-arrow\">RandomForestClassifier</label><div class=\"sk-toggleable__content\"><pre>RandomForestClassifier(n_estimators=300)</pre></div></div></div></div></div>"
      ],
      "text/plain": [
       "RandomForestClassifier(n_estimators=300)"
      ]
     },
     "execution_count": 67,
     "metadata": {},
     "output_type": "execute_result"
    }
   ],
   "source": [
    "rfc.fit(X_train,y_train)"
   ]
  },
  {
   "cell_type": "code",
   "execution_count": 68,
   "id": "f62e749c",
   "metadata": {},
   "outputs": [],
   "source": [
    "pred_rfc=rfc.predict(X_test)"
   ]
  },
  {
   "cell_type": "code",
   "execution_count": 69,
   "id": "6331285b",
   "metadata": {},
   "outputs": [
    {
     "name": "stdout",
     "output_type": "stream",
     "text": [
      "[[   0   49    0    0  257]\n",
      " [   0  252    0    0  680]\n",
      " [   0    0    0    0  240]\n",
      " [   0    0    0    0  201]\n",
      " [   0    9    0    0 1808]]\n",
      "\n",
      "\n",
      "              precision    recall  f1-score   support\n",
      "\n",
      "           0       0.00      0.00      0.00       306\n",
      "           1       0.81      0.27      0.41       932\n",
      "           2       0.00      0.00      0.00       240\n",
      "           3       0.00      0.00      0.00       201\n",
      "           4       0.57      1.00      0.72      1817\n",
      "\n",
      "    accuracy                           0.59      3496\n",
      "   macro avg       0.28      0.25      0.23      3496\n",
      "weighted avg       0.51      0.59      0.48      3496\n",
      "\n"
     ]
    },
    {
     "name": "stderr",
     "output_type": "stream",
     "text": [
      "D:\\Vybhav\\Anaconda\\lib\\site-packages\\sklearn\\metrics\\_classification.py:1344: UndefinedMetricWarning:\n",
      "\n",
      "Precision and F-score are ill-defined and being set to 0.0 in labels with no predicted samples. Use `zero_division` parameter to control this behavior.\n",
      "\n",
      "D:\\Vybhav\\Anaconda\\lib\\site-packages\\sklearn\\metrics\\_classification.py:1344: UndefinedMetricWarning:\n",
      "\n",
      "Precision and F-score are ill-defined and being set to 0.0 in labels with no predicted samples. Use `zero_division` parameter to control this behavior.\n",
      "\n",
      "D:\\Vybhav\\Anaconda\\lib\\site-packages\\sklearn\\metrics\\_classification.py:1344: UndefinedMetricWarning:\n",
      "\n",
      "Precision and F-score are ill-defined and being set to 0.0 in labels with no predicted samples. Use `zero_division` parameter to control this behavior.\n",
      "\n"
     ]
    }
   ],
   "source": [
    "print(confusion_matrix(y_test,pred_rfc))\n",
    "print('\\n')\n",
    "print(classification_report(y_test,pred_rfc))"
   ]
  },
  {
   "cell_type": "code",
   "execution_count": null,
   "id": "f51fe28d",
   "metadata": {},
   "outputs": [],
   "source": []
  }
 ],
 "metadata": {
  "kernelspec": {
   "display_name": "Python 3 (ipykernel)",
   "language": "python",
   "name": "python3"
  },
  "language_info": {
   "codemirror_mode": {
    "name": "ipython",
    "version": 3
   },
   "file_extension": ".py",
   "mimetype": "text/x-python",
   "name": "python",
   "nbconvert_exporter": "python",
   "pygments_lexer": "ipython3",
   "version": "3.10.13"
  }
 },
 "nbformat": 4,
 "nbformat_minor": 5
}
